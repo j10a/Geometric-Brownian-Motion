{
 "cells": [
  {
   "cell_type": "code",
   "execution_count": 64,
   "metadata": {},
   "outputs": [],
   "source": [
    "import pandas as pd\n",
    "import numpy as np\n",
    "import matplotlib.pyplot as plt\n",
    "import seaborn as sns\n"
   ]
  },
  {
   "cell_type": "markdown",
   "metadata": {},
   "source": [
    "## Question 3 ##"
   ]
  },
  {
   "cell_type": "markdown",
   "metadata": {},
   "source": [
    "### Write a function MCpaths (Nt, Np, mu, sigma, dt) in Ro or Python to generate a set of simulated price paths for a stock following geometric Brownian motion. Use this function with expected annual return μ = 10%, standard deviation σ = 30%, and initial price S0 = 100. Let the number of time steps per path be Nt = 252 and let the number of paths be Np =10,000. (Include your own code with your submission.) ###"
   ]
  },
  {
   "cell_type": "code",
   "execution_count": 65,
   "metadata": {},
   "outputs": [],
   "source": [
    "\n",
    "def MCpaths(Nt, Np, mu, sigma, dt):\n",
    "    Matrix = np.zeros((Nt, Np))\n",
    "    for i in range (1, int(Np+1)):\n",
    "        a = np.random.standard_normal(Nt)\n",
    "        cum_a = np.cumsum(a)\n",
    "        for t in range(1, int(Nt+1)):\n",
    "            Wt = cum_a[t-1]*np.sqrt(dt)\n",
    "            St = S0*np.exp(mu-1/2*sigma**2)*np.exp(Wt*sigma)\n",
    "            Matrix[t-1,i-1]=St\n",
    "    return Matrix"
   ]
  },
  {
   "cell_type": "code",
   "execution_count": 66,
   "metadata": {},
   "outputs": [],
   "source": [
    "S0=100"
   ]
  },
  {
   "cell_type": "markdown",
   "metadata": {},
   "source": [
    "### (a) Plot a histogram of the terminal values of the paths. What are the mean and standard deviation of the distribution? ###"
   ]
  },
  {
   "cell_type": "code",
   "execution_count": 67,
   "metadata": {},
   "outputs": [],
   "source": [
    "mtest = MCpaths(252, 10000, 0.1, 0.3, 1/252)"
   ]
  },
  {
   "cell_type": "code",
   "execution_count": 68,
   "metadata": {},
   "outputs": [
    {
     "name": "stdout",
     "output_type": "stream",
     "text": [
      "[ 120.01418039  102.13592868  102.13966681 ...,   93.44165058   79.45319276\n",
      "   72.66661692]\n"
     ]
    }
   ],
   "source": [
    "final_prices = mtest[251][:]\n",
    "print(final_prices)"
   ]
  },
  {
   "cell_type": "markdown",
   "metadata": {},
   "source": [
    "#### Histogram of the terminal values of the paths ####"
   ]
  },
  {
   "cell_type": "code",
   "execution_count": 69,
   "metadata": {},
   "outputs": [
    {
     "data": {
      "image/png": "[encoded data removed]",
      "text/plain": [
       "<matplotlib.figure.Figure at 0x11852c630>"
      ]
     },
     "metadata": {},
     "output_type": "display_data"
    }
   ],
   "source": [
    "ax = sns.distplot(final_prices)\n",
    "plt.show(ax)"
   ]
  },
  {
   "cell_type": "markdown",
   "metadata": {},
   "source": [
    "#### Mean of terminal values ####"
   ]
  },
  {
   "cell_type": "code",
   "execution_count": 70,
   "metadata": {},
   "outputs": [
    {
     "name": "stdout",
     "output_type": "stream",
     "text": [
      "110.38776649\n"
     ]
    }
   ],
   "source": [
    "dist_mean = np.mean(final_prices)\n",
    "print(dist_mean)"
   ]
  },
  {
   "cell_type": "markdown",
   "metadata": {},
   "source": [
    "#### Standard deviation of temrinal values ####"
   ]
  },
  {
   "cell_type": "code",
   "execution_count": 71,
   "metadata": {},
   "outputs": [
    {
     "name": "stdout",
     "output_type": "stream",
     "text": [
      "33.7569401107\n"
     ]
    }
   ],
   "source": [
    "dist_std = np.std(final_prices)\n",
    "print(dist_std)"
   ]
  },
  {
   "cell_type": "markdown",
   "metadata": {},
   "source": [
    "### (b) What is the average number of returns to the origin? That is, how many times, after the first step, does St hit or cross the initial value S0? ###"
   ]
  },
  {
   "cell_type": "code",
   "execution_count": 72,
   "metadata": {},
   "outputs": [],
   "source": [
    "def CountRetOrigin (array,p,t,init_value):\n",
    "    count = 0\n",
    "    for y in range(0,p):\n",
    "        for i in range(0,t):\n",
    "            if array[i+1][y] < init_value < array[i][y]:\n",
    "                count = count+1\n",
    "            elif array[i+1][y] > init_value > array[i][y]:\n",
    "                count=count +1\n",
    "            else:\n",
    "                count =count\n",
    "    return count"
   ]
  },
  {
   "cell_type": "code",
   "execution_count": 73,
   "metadata": {},
   "outputs": [
    {
     "data": {
      "text/plain": [
       "79107"
      ]
     },
     "execution_count": 73,
     "metadata": {},
     "output_type": "execute_result"
    }
   ],
   "source": [
    "CountRetOrigin(mtest, 10000, 251, 100)"
   ]
  },
  {
   "cell_type": "code",
   "execution_count": 74,
   "metadata": {},
   "outputs": [],
   "source": [
    "def avgRetOrigin(array,p,t,init_value):\n",
    "    avg_ret_origin = (CountRetOrigin (array,p,t,init_value))/p\n",
    "    print(avg_ret_origin)\n",
    "    return"
   ]
  },
  {
   "cell_type": "code",
   "execution_count": 75,
   "metadata": {},
   "outputs": [
    {
     "name": "stdout",
     "output_type": "stream",
     "text": [
      "7.9107\n"
     ]
    }
   ],
   "source": [
    "avgRetOrigin(mtest, 10000, 251, 100)"
   ]
  },
  {
   "cell_type": "markdown",
   "metadata": {},
   "source": [
    "### (c) Consider a one-year European call option on the stock with strike price K = 100. What is the empirical mean value, averaged over all simulated paths, of the terminal payoff CNt = max(SNt − K, 0)? ###"
   ]
  },
  {
   "cell_type": "code",
   "execution_count": 81,
   "metadata": {},
   "outputs": [],
   "source": [
    "def payout_Europ_call (array, strike_p):\n",
    "    payout_matrix = np.zeros(9999)\n",
    "    for i in range (0, 9999):\n",
    "        payout_matrix[i] = array[i]-strike_p\n",
    "        if payout_matrix[i]>0:\n",
    "            payout_matrix[i]=payout_matrix[i]\n",
    "        else:\n",
    "            payout_matrix[i]=0\n",
    "    print(payout_matrix)\n",
    "    return payout_matrix"
   ]
  },
  {
   "cell_type": "code",
   "execution_count": 88,
   "metadata": {},
   "outputs": [],
   "source": [
    "payout_strike_100=payout_Europ_call(final_prices, 100)"
   ]
  },
  {
   "cell_type": "code",
   "execution_count": 90,
   "metadata": {},
   "outputs": [
    {
     "name": "stdout",
     "output_type": "stream",
     "text": [
      "16.420626211\n"
     ]
    }
   ],
   "source": [
    "payoff_mean = np.mean(payout_strike_100)\n",
    "print(payoff_mean)"
   ]
  },
  {
   "cell_type": "markdown",
   "metadata": {},
   "source": [
    "### (d) Now consider a one-year European put option, instead of a call, with the same strike price, K = 100. What is the corresponding value? Should you evaluate the put option using the same random price prices used to evaluate the call above, or should a new set be drawn independently? ###"
   ]
  },
  {
   "cell_type": "code",
   "execution_count": 91,
   "metadata": {},
   "outputs": [],
   "source": [
    "def payout_Europ_put(array, strike_p):\n",
    "    payout_matrix = np.zeros(9999)\n",
    "    for i in range (0, 9999):\n",
    "        payout_matrix[i] = strike_p - array[i]\n",
    "        if payout_matrix[i]>0:\n",
    "            payout_matrix[i]=payout_matrix[i]\n",
    "        else:\n",
    "            payout_matrix[i]=0\n",
    "    print(payout_matrix)\n",
    "    return payout_matrix"
   ]
  },
  {
   "cell_type": "code",
   "execution_count": 92,
   "metadata": {},
   "outputs": [
    {
     "name": "stdout",
     "output_type": "stream",
     "text": [
      "[  0.           0.           0.         ...,   0.           6.55834942\n",
      "  20.54680724]\n",
      "[  0.           0.           0.         ...,   0.           6.55834942\n",
      "  20.54680724]\n"
     ]
    }
   ],
   "source": [
    "payout_put_strike_100=payout_Europ_put(final_prices, 100)\n",
    "print(payout_put_strike_100)"
   ]
  },
  {
   "cell_type": "code",
   "execution_count": 96,
   "metadata": {},
   "outputs": [
    {
     "name": "stdout",
     "output_type": "stream",
     "text": [
      "7.99997236373\n"
     ]
    }
   ],
   "source": [
    "payoff_put_mean = np.mean(payout_put_strike_100)\n",
    "print(payoff_put_mean)"
   ]
  },
  {
   "cell_type": "markdown",
   "metadata": {},
   "source": [
    "## Question 4 ##"
   ]
  },
  {
   "cell_type": "code",
   "execution_count": 98,
   "metadata": {},
   "outputs": [],
   "source": [
    "PS2_data = pd.read_excel(\"/Users/jeremyobadia/Desktop/MIT Summer Term/Maths/PS2-data.xlsx\")"
   ]
  },
  {
   "cell_type": "code",
   "execution_count": 99,
   "metadata": {},
   "outputs": [
    {
     "name": "stdout",
     "output_type": "stream",
     "text": [
      "    Observation  SecID      x       y\n",
      "0             1  17978  0.008  0.0814\n",
      "1             2  14277  0.005  0.0573\n",
      "2             3  12300  0.005  0.0568\n",
      "3             4  14277  0.008  0.0677\n",
      "4             5  14277  0.011  0.0781\n",
      "5             6  18056  0.008  0.0525\n",
      "6             7  18056  0.008  0.0704\n",
      "7             8  18056  0.008  0.0689\n",
      "8             9  12835  0.005  0.0627\n",
      "9            10  12835  0.006  0.0627\n",
      "10           11  12835  0.014  0.1196\n",
      "11           12  14277  0.010  0.0746\n",
      "12           13  14277  0.013  0.1274\n",
      "13           14  14277  0.007  0.0642\n",
      "14           15  12300  0.004  0.0426\n",
      "15           16  14277  0.006  0.0608\n",
      "16           17  17978  0.012  0.0913\n",
      "17           18  12300  0.009  0.0881\n",
      "18           19  17978  0.007  0.0726\n",
      "19           20  17978  0.006  0.0613\n",
      "20           21  18056  0.008  0.0576\n",
      "21           22  14277  0.012  0.0815\n",
      "22           23  12835  0.004  0.0627\n",
      "23           24  12835  0.007  0.0627\n",
      "24           25  14277  0.009  0.0711\n",
      "25           26  17978  0.004  0.0310\n",
      "26           27  12835  0.011  0.0735\n",
      "27           28  17978  0.011  0.0926\n",
      "28           29  18056  0.008  0.0658\n",
      "29           30  17978  0.013  0.0874\n",
      "30           31  12300  0.011  0.0833\n",
      "31           32  14277  0.004  0.0539\n",
      "32           33  12835  0.010  0.0627\n",
      "33           34  12835  0.013  0.1042\n",
      "34           35  12300  0.013  0.0758\n",
      "35           36  14277  0.014  0.0884\n",
      "36           37  12300  0.012  0.1084\n",
      "37           38  18056  0.019  0.1250\n",
      "38           39  12300  0.008  0.0695\n",
      "39           40  18056  0.008  0.0556\n",
      "40           41  12835  0.008  0.0627\n",
      "41           42  12300  0.014  0.0996\n",
      "42           43  18056  0.008  0.0791\n",
      "43           44  12300  0.010  0.0804\n",
      "44           45  12835  0.012  0.0888\n",
      "45           46  17978  0.005  0.0474\n",
      "46           47  18056  0.008  0.0884\n",
      "47           48  17978  0.014  0.0810\n",
      "48           49  18056  0.008  0.0771\n",
      "49           50  17978  0.009  0.0877\n",
      "50           51  12835  0.009  0.0627\n",
      "51           52  12300  0.007  0.0482\n",
      "52           53  12300  0.006  0.0724\n",
      "53           54  18056  0.008  0.0847\n",
      "54           55  17978  0.010  0.0914\n"
     ]
    }
   ],
   "source": [
    "print(PS2_data)"
   ]
  },
  {
   "cell_type": "code",
   "execution_count": 107,
   "metadata": {},
   "outputs": [
    {
     "name": "stdout",
     "output_type": "stream",
     "text": [
      "0.009000000000000006\n",
      "0.00316227766016838\n"
     ]
    }
   ],
   "source": [
    "xi_mean = np.mean(PS2_data['x'])\n",
    "xi_std = np.std(PS2_data['x'])\n",
    "print(xi_mean)\n",
    "print(xi_std)"
   ]
  },
  {
   "cell_type": "code",
   "execution_count": 105,
   "metadata": {},
   "outputs": [
    {
     "name": "stdout",
     "output_type": "stream",
     "text": [
      "0.07500545454545456\n",
      "0.01935049370459499\n"
     ]
    }
   ],
   "source": [
    "yi_mean=np.mean(PS2_data['y'])\n",
    "yi_std = np.std(PS2_data['y'])\n",
    "print(yi_mean)\n",
    "print(yi_std)"
   ]
  },
  {
   "cell_type": "code",
   "execution_count": 110,
   "metadata": {},
   "outputs": [
    {
     "name": "stdout",
     "output_type": "stream",
     "text": [
      "[ 0.0398778]\n"
     ]
    }
   ],
   "source": [
    "corr = np.correlate(PS2_data['x'],PS2_data['y'])\n",
    "print(corr)"
   ]
  },
  {
   "cell_type": "code",
   "execution_count": 138,
   "metadata": {},
   "outputs": [
    {
     "name": "stdout",
     "output_type": "stream",
     "text": [
      "    Observation  SecID      x       y\n",
      "36           37  12300  0.012  0.1084\n",
      "30           31  12300  0.011  0.0833\n",
      "38           39  12300  0.008  0.0695\n",
      "41           42  12300  0.014  0.0996\n",
      "43           44  12300  0.010  0.0804\n",
      "17           18  12300  0.009  0.0881\n",
      "14           15  12300  0.004  0.0426\n",
      "34           35  12300  0.013  0.0758\n",
      "2             3  12300  0.005  0.0568\n",
      "51           52  12300  0.007  0.0482\n",
      "52           53  12300  0.006  0.0724\n",
      "8             9  12835  0.005  0.0627\n",
      "40           41  12835  0.008  0.0627\n",
      "26           27  12835  0.011  0.0735\n",
      "23           24  12835  0.007  0.0627\n",
      "22           23  12835  0.004  0.0627\n",
      "50           51  12835  0.009  0.0627\n",
      "33           34  12835  0.013  0.1042\n",
      "44           45  12835  0.012  0.0888\n",
      "10           11  12835  0.014  0.1196\n",
      "9            10  12835  0.006  0.0627\n",
      "32           33  12835  0.010  0.0627\n",
      "31           32  14277  0.004  0.0539\n",
      "15           16  14277  0.006  0.0608\n",
      "21           22  14277  0.012  0.0815\n",
      "13           14  14277  0.007  0.0642\n",
      "12           13  14277  0.013  0.1274\n",
      "24           25  14277  0.009  0.0711\n",
      "4             5  14277  0.011  0.0781\n",
      "11           12  14277  0.010  0.0746\n",
      "3             4  14277  0.008  0.0677\n",
      "1             2  14277  0.005  0.0573\n",
      "35           36  14277  0.014  0.0884\n",
      "0             1  17978  0.008  0.0814\n",
      "49           50  17978  0.009  0.0877\n",
      "45           46  17978  0.005  0.0474\n",
      "47           48  17978  0.014  0.0810\n",
      "27           28  17978  0.011  0.0926\n",
      "29           30  17978  0.013  0.0874\n",
      "16           17  17978  0.012  0.0913\n",
      "18           19  17978  0.007  0.0726\n",
      "19           20  17978  0.006  0.0613\n",
      "25           26  17978  0.004  0.0310\n",
      "54           55  17978  0.010  0.0914\n",
      "20           21  18056  0.008  0.0576\n",
      "53           54  18056  0.008  0.0847\n",
      "37           38  18056  0.019  0.1250\n",
      "28           29  18056  0.008  0.0658\n",
      "48           49  18056  0.008  0.0771\n",
      "39           40  18056  0.008  0.0556\n",
      "7             8  18056  0.008  0.0689\n",
      "6             7  18056  0.008  0.0704\n",
      "5             6  18056  0.008  0.0525\n",
      "42           43  18056  0.008  0.0791\n",
      "46           47  18056  0.008  0.0884\n"
     ]
    }
   ],
   "source": [
    "sorted_data = PS2_data.sort_values(by = ['SecID'])\n",
    "print(sorted_data)"
   ]
  },
  {
   "cell_type": "code",
   "execution_count": 209,
   "metadata": {},
   "outputs": [],
   "source": [
    "##SECID12300 = sorted_data[0:11]\n",
    "##print(SECID12300)\n",
    "##x_mean_ID12300 = np.mean(SECID12300['x'])\n",
    "##print(x_mean_ID12300)"
   ]
  },
  {
   "cell_type": "code",
   "execution_count": 210,
   "metadata": {},
   "outputs": [],
   "source": [
    "##SecID_12835 = sorted_data[11:22]\n",
    "#print(SecID_12835)\n",
    "##testtt = SecID_12835['SecID'].iloc[0]\n",
    "##print(testtt)\n",
    "##test12835 = np.mean(SecID_12835['x'])\n",
    "##print(test12835)"
   ]
  },
  {
   "cell_type": "code",
   "execution_count": 207,
   "metadata": {},
   "outputs": [],
   "source": [
    "def calc_by_sec(df, obs, groups):\n",
    "    for i in range (0, obs, groups):\n",
    "        \n",
    "        SecID = df[i:i+groups]\n",
    "        val = df['SecID'].iloc[i]\n",
    "        print('\\n''Values for ID',val)\n",
    "        #print(SecID)\n",
    "        mean_x_ID = np.mean(SecID['x'])\n",
    "        print('Mean of xi for security', val,'=',mean_x_ID)\n",
    "        std_x_ID = np.std(SecID['x'])\n",
    "        print('Standard deviation of xi for security', val, '=',std_x_ID)\n",
    "        mean_y_ID = np.mean(SecID['y'])\n",
    "        print('\\n''Mean of yi for security', val,'=',mean_y_ID)    \n",
    "        std_y_ID = np.std(SecID['y'])\n",
    "        print('Standard deviation of yi for security', val,'=',std_y_ID)    \n",
    "        corr_ID = np.correlate(SecID['x'], SecID['y'])\n",
    "        print('\\n''Correlation between xi and yi for security', val, '=',corr_ID)\n",
    "    return"
   ]
  },
  {
   "cell_type": "code",
   "execution_count": 208,
   "metadata": {},
   "outputs": [
    {
     "name": "stdout",
     "output_type": "stream",
     "text": [
      "\n",
      "Values for ID 12300\n",
      "Mean of xi for security 12300 = 0.009000000000000001\n",
      "Standard deviation of xi for security 12300 = 0.003162277660168379\n",
      "\n",
      "Mean of yi for security 12300 = 0.0750090909090909\n",
      "Standard deviation of yi for security 12300 = 0.019370242151086688\n",
      "\n",
      "Correlation between xi and yi for security 12300 = [ 0.007976]\n",
      "\n",
      "Values for ID 12835\n",
      "Mean of xi for security 12835 = 0.009000000000000001\n",
      "Standard deviation of xi for security 12835 = 0.0031622776601683794\n",
      "\n",
      "Mean of yi for security 12835 = 0.07500000000000001\n",
      "Standard deviation of yi for security 12835 = 0.019290883386153722\n",
      "\n",
      "Correlation between xi and yi for security 12835 = [ 0.0079754]\n",
      "\n",
      "Values for ID 14277\n",
      "Mean of xi for security 14277 = 0.009\n",
      "Standard deviation of xi for security 14277 = 0.0031622776601683794\n",
      "\n",
      "Mean of yi for security 14277 = 0.075\n",
      "Standard deviation of yi for security 14277 = 0.01935932943992732\n",
      "\n",
      "Correlation between xi and yi for security 14277 = [ 0.0079747]\n",
      "\n",
      "Values for ID 17978\n",
      "Mean of xi for security 17978 = 0.009000000000000001\n",
      "Standard deviation of xi for security 17978 = 0.003162277660168379\n",
      "\n",
      "Mean of yi for security 17978 = 0.07500909090909093\n",
      "Standard deviation of yi for security 17978 = 0.019371086914896203\n",
      "\n",
      "Correlation between xi and yi for security 17978 = [ 0.0079759]\n",
      "\n",
      "Values for ID 18056\n",
      "Mean of xi for security 18056 = 0.009000000000000003\n",
      "Standard deviation of xi for security 18056 = 0.00316227766016838\n",
      "\n",
      "Mean of yi for security 18056 = 0.0750090909090909\n",
      "Standard deviation of yi for security 18056 = 0.019360806451340837\n",
      "\n",
      "Correlation between xi and yi for security 18056 = [ 0.0079758]\n"
     ]
    }
   ],
   "source": [
    "calc_by_sec(sorted_data, 55, 11)"
   ]
  }
 ],
 "metadata": {
  "kernelspec": {
   "display_name": "Python 3",
   "language": "python",
   "name": "python3"
  },
  "language_info": {
   "codemirror_mode": {
    "name": "ipython",
    "version": 3
   },
   "file_extension": ".py",
   "mimetype": "text/x-python",
   "name": "python",
   "nbconvert_exporter": "python",
   "pygments_lexer": "ipython3",
   "version": "3.6.3"
  }
 },
 "nbformat": 4,
 "nbformat_minor": 2
}
